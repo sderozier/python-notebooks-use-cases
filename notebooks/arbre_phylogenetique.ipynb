{
 "cells": [
  {
   "cell_type": "markdown",
   "metadata": {},
   "source": [
    "# Visualisation de données sous forme d'arbre"
   ]
  },
  {
   "cell_type": "markdown",
   "metadata": {},
   "source": [
    "A partir d'un jeu de données composé de plusieurs génomes, on souhaite estimer si ces génomes sont proches au niveau de leurs séquences nucléïques. Pour faire ceci, l'outil Mash peut-etre utilisé.\n",
    "\n",
    "## Mash\n",
    "\n",
    "[Mash](https://mash.readthedocs.io/en/latest/index.html) repose sur un algorithme de MinHash pour comparer rapidement des données génomiques et propose d’en calculer une distance. La distance de Mash mesure la dissimilarité entre deux échantillons. Plus la distance calculée est proche de 0, plus les séquences sont similaires. La distance de Mash est corrélée à la valeur de l’identité nucléotidique moyenne (*average nucleotide identity*, ANI), une mesure classique de similarité de séquences. La relation entre l’ANI et la distance de Mash D est décrite par la simple relation : `D ≈ 1 - ANI`.\n",
    "\n",
    "*Reference :* [Mash: fast genome and metagenome distance estimation using MinHash. Ondov BD, Treangen TJ, Melsted P, Mallonee AB, Bergman NH, Koren S, Phillippy AM. Genome Biol. 2016 Jun 20;17(1):132. doi: 10.1186/s13059-016-0997-x](https://genomebiology.biomedcentral.com/articles/10.1186/s13059-016-0997-x).\n",
    "\n",
    "## Scikit-bio\n",
    "\n",
    "[Scikit-bio](http://scikit-bio.org/) est une bibliothèque permettant de travailler avec des données biologiques en Python 3. On peut voir cette librairie comme un équivalent/complément à [biopython](https://biopython.org/).\n",
    "\n",
    "Il existe plusieurs modules permettant :\n",
    "\n",
    "* la gestion des formats fréquemment manipulés en bioinformatique via [skbio.io](http://scikit-bio.org/docs/latest/io.html)\n",
    "* le stockage et la manipulation de séquences (nucléiques et protéiques) via [skbio.sequence](http://scikit-bio.org/docs/latest/sequence.html)\n",
    "* la manipulation des alignements de séquences via [skbio.alignment](http://scikit-bio.org/docs/latest/alignment.html)\n",
    "* ...\n",
    "\n",
    "Ici, nous allons nous intéresser plus particulièrement à [skbio.tree](http://scikit-bio.org/docs/latest/tree.html). Ce module offre des fonctionnalités permettant de travailler avec des arbres, notamment des arbres phylogénétiques et des hiérarchies. Il permet de construire des arbres, de les parcourir de différentes manières, d'effectuer des comparaisons, d'extraire des sous-arbres, ...\n",
    "\n",
    "## Jeu de données\n",
    "\n",
    "Le jeu de données comprend 8 génomes de *Salmonella enterica subsp. enterica serovar Paratyphi* issus de la banque de données [RefSeq](https://www.ncbi.nlm.nih.gov/refseq/about/). Ils ont tous les 8, un niveau d'assemblage **Complete**."
   ]
  },
  {
   "cell_type": "markdown",
   "metadata": {},
   "source": [
    "## Import des librairies"
   ]
  },
  {
   "cell_type": "code",
   "execution_count": 1,
   "metadata": {},
   "outputs": [],
   "source": [
    "import os\n",
    "from skbio import DistanceMatrix\n",
    "from skbio.tree import nj"
   ]
  },
  {
   "cell_type": "markdown",
   "metadata": {},
   "source": [
    "## Parcours des fichiers contenant la distance de Mash entre chaque génome\n",
    "\n",
    "Le sous-répertoire **data/data_mashDist** contient les fichiers de sortie de l'outil `mash dist` avec le calcul des distances Mash pour chaque paire de génomes. Voici un exemple de fichier de sortie pour un calcul de distance entre les génomes **GCF_000486725.2_ASM48672v2_genomic** et **GCF_000818115.1_ASM81811v1_genomic** ayant une distance de Mash de **0.00105797** :\n",
    "\n",
    "```\n",
    "Reference-ID\tQuery-ID\tMash-distance\tP-value\tMatching-hashes\n",
    "GCF_000486725.2_ASM48672v2_genomic.fna.gz\tGCF_000818115.1_ASM81811v1_genomic.fna.gz\t0.00105797\t0\t957/1000\n",
    "```\n",
    "\n",
    "Dans notre cas, ce sont les colonnes **Reference-ID**, **Query-ID** et **Mash-distance** qui vont particulièrement nous intéresser."
   ]
  },
  {
   "cell_type": "code",
   "execution_count": 2,
   "metadata": {},
   "outputs": [],
   "source": [
    "# Récupération de l'ensemble des fichiers contenant les distances entre génomes\n",
    "files = os.listdir('../data/mashDist')\n",
    "\n",
    "# Initialisation de variables\n",
    "dist = {}      # dictionnaire contenant l'ensemble des distances de Mash pour chaque paire de génomes\n",
    "names = []     # liste contenant les noms des huit génomes\n",
    "\n",
    "# Parcours de l'ensemble des fichiers contenant les distances entre génomes\n",
    "for file in sorted(files):\n",
    "    # Ouverture du fichier en lecture\n",
    "    with open('../data/mashDist/'+file, \"r\") as distfile:\n",
    "        # Parcours du fichier ligne par ligne\n",
    "        for line in distfile:\n",
    "            # Création d'une liste grâce au séparateur '\\t'\n",
    "            liste = line.split('\\t')\n",
    "            # Stockage des données dans un dictionnaire\n",
    "            # Clé : tuple avec le nom des deux génomes\n",
    "            # Valeur : distance de Mash entre ces deux génomes\n",
    "            dist[(liste[0], liste[1])] = liste[2]\n",
    "            # Ajout des noms de génomes dans une liste\n",
    "            if liste[0] not in names:\n",
    "                names.append(liste[0])\n",
    "            if liste[1] not in names:\n",
    "                names.append(liste[1])\n",
    "\n",
    "# Classement par ordre ASCII des noms de génomes\n",
    "names = sorted(names)"
   ]
  },
  {
   "cell_type": "markdown",
   "metadata": {},
   "source": [
    "## Création d'une matrice de distance\n",
    "\n",
    "La fonction `DistanceMatrix()` de la librairie [scikit-bio](http://scikit-bio.org/) permet de créer une matrice de distance à partir d'une liste de listes. Il est donc nécessaire de transformer les données stockées dans notre dictionnaire en une structure de type liste de listes."
   ]
  },
  {
   "cell_type": "code",
   "execution_count": 3,
   "metadata": {},
   "outputs": [],
   "source": [
    "# Initialisation de variable\n",
    "matrix = []    # liste contenant l'ensemble des données de distance de Mash\n",
    "\n",
    "# Parcours de l'ensemble des génomes\n",
    "for nameA in names:\n",
    "    # Initialisation d'une liste qui va contenir \n",
    "    # l'ensemble des distances pour ce génome\n",
    "    dist_tmp = []\n",
    "    # Parcours de l'ensemble des génomes\n",
    "    for nameB in names:\n",
    "        # Tuple avec les noms des génomes\n",
    "        # Clé du dictionnaire contenant les distances\n",
    "        key = (nameA, nameB)\n",
    "        key2 = (nameB, nameA)\n",
    "        # Récupération de la distance\n",
    "        if key in dist:\n",
    "            dist_tmp.append(float(dist[key]))\n",
    "        elif key2 in dist:\n",
    "            dist_tmp.append(float(dist[key2]))\n",
    "        # Distance = 0 (génome contre lui-même)\n",
    "        else:\n",
    "            dist_tmp.append(0)\n",
    "    # Ajout des distances pour ce génome à la matrice final\n",
    "    matrix.append(dist_tmp)\n",
    "\n",
    "# Création de la matrice avec scikit-bio\n",
    "dm = DistanceMatrix(matrix, names)"
   ]
  },
  {
   "cell_type": "markdown",
   "metadata": {},
   "source": [
    "## Création d'un arbre de Neighbor joining\n",
    "\n",
    "La fonction `nj()` de la librairie `scikit-bio` permet de créer un arbre phylogénétique via la méthode de [Neighbor joining](https://fr.wikipedia.org/wiki/Neighbour_joining)."
   ]
  },
  {
   "cell_type": "code",
   "execution_count": 4,
   "metadata": {},
   "outputs": [
    {
     "name": "stdout",
     "output_type": "stream",
     "text": [
      "                    /-GCF 000011885.1 ASM1188v1 genomic.fna.gz\n",
      "          /--------|\n",
      "         |         |          /-GCF 000026565.1 ASM2656v1 genomic.fna.gz\n",
      "         |          \\--------|\n",
      "         |                   |          /-GCF 000486725.2 ASM48672v2 genomic.fna.gz\n",
      "         |                    \\--------|\n",
      "         |                             |          /-GCF 000018705.1 ASM1870v1 genomic.fna.gz\n",
      "---------|                              \\--------|\n",
      "         |                                        \\-GCF 000018385.1 ASM1838v1 genomic.fna.gz\n",
      "         |\n",
      "         |          /-GCF 000818115.1 ASM81811v1 genomic.fna.gz\n",
      "         |---------|\n",
      "         |          \\-GCF 000818075.1 ASM81807v1 genomic.fna.gz\n",
      "         |\n",
      "          \\-GCF 002386165.1 ASM238616v1 genomic.fna.gz\n"
     ]
    }
   ],
   "source": [
    "# Création de l'arbre\n",
    "tree = nj(dm)\n",
    "\n",
    "# Affichage de l'arbre\n",
    "print(tree.ascii_art())"
   ]
  },
  {
   "cell_type": "markdown",
   "metadata": {},
   "source": [
    "## Format Newick de l'arbre"
   ]
  },
  {
   "cell_type": "code",
   "execution_count": 5,
   "metadata": {},
   "outputs": [
    {
     "name": "stdout",
     "output_type": "stream",
     "text": [
      "((GCF_000011885.1_ASM1188v1_genomic.fna.gz:0.000049, (GCF_000026565.1_ASM2656v1_genomic.fna.gz:0.000017, (GCF_000486725.2_ASM48672v2_genomic.fna.gz:0.000319, (GCF_000018705.1_ASM1870v1_genomic.fna.gz:0.007044, GCF_000018385.1_ASM1838v1_genomic.fna.gz:0.007259):0.009483):0.000687):0.000007):0.000046, (GCF_000818115.1_ASM81811v1_genomic.fna.gz:0.000000, GCF_000818075.1_ASM81807v1_genomic.fna.gz:0.000047):0.000001, GCF_002386165.1_ASM238616v1_genomic.fna.gz:0.000023);\n"
     ]
    }
   ],
   "source": [
    "newick_str = nj(dm, result_constructor = str)\n",
    "print(newick_str)"
   ]
  },
  {
   "cell_type": "markdown",
   "metadata": {},
   "source": [
    "<br/>Pour aller plus loin avec la représentation sous forme d'arbre, cf. [http://scikit-bio.org/docs/0.2.1/tree.html](http://scikit-bio.org/docs/0.2.1/tree.html)."
   ]
  }
 ],
 "metadata": {
  "kernelspec": {
   "display_name": "Python 3",
   "language": "python",
   "name": "python3"
  },
  "language_info": {
   "codemirror_mode": {
    "name": "ipython",
    "version": 3
   },
   "file_extension": ".py",
   "mimetype": "text/x-python",
   "name": "python",
   "nbconvert_exporter": "python",
   "pygments_lexer": "ipython3",
   "version": "3.7.7"
  }
 },
 "nbformat": 4,
 "nbformat_minor": 4
}
