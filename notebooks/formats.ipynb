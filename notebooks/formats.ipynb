{
 "cells": [
  {
   "cell_type": "markdown",
   "metadata": {},
   "source": [
    "# Gestion de différents formats avec biopython\n",
    "\n",
    "L'interface [biopython](https://biopython.org/) [Bio.SeqIO](https://biopython.org/wiki/SeqIO) permet la manipulation des formats les plus utilisés en bioinformatique.\n",
    "\n",
    "[Bio.SeqIO](https://biopython.org/wiki/SeqIO) fournit une interface simple et uniforme mais ne traitera que les séquences en tant qu'objets [SeqRecord](https://biopython.org/wiki/SeqRecord). Il existe une autre interface [Bio.AlignIO](https://biopython.org/wiki/AlignIO) pour traiter des fichiers d'alignement de séquences.\n",
    "\n",
    "Voici quelques exemples d'utilisation de l'interface [Bio.SeqIO](https://biopython.org/wiki/SeqIO)."
   ]
  },
  {
   "cell_type": "markdown",
   "metadata": {},
   "source": [
    "## Import des librairies"
   ]
  },
  {
   "cell_type": "code",
   "execution_count": 1,
   "metadata": {},
   "outputs": [],
   "source": [
    "# Gestion des fichiers (Input/Output)\n",
    "from Bio import SeqIO\n",
    "# Gestion des séquences\n",
    "from Bio.Seq import Seq\n",
    "from Bio.SeqRecord import SeqRecord\n",
    "# Gestion des features (éléments annotés)\n",
    "from Bio.Alphabet import generic_dna\n",
    "from Bio.SeqFeature import FeatureLocation, SeqFeature\n",
    "# Gestion des fichiers GFF\n",
    "from BCBio import GFF"
   ]
  },
  {
   "cell_type": "markdown",
   "metadata": {},
   "source": [
    "## Format FASTA\n",
    "\n",
    "### Description du format FASTA\n",
    "\n",
    "Un format [FASTA](https://fr.wikipedia.org/wiki/FASTA_(format_de_fichier)) est composé obligatoirement d'un identifiant de séquence précédé du symbole `>` (et éventuellement suivi d'une description) puis d'une séquence (sur une ou plusieurs lignes).\n",
    "\n",
    "```\n",
    ">Identifiant Description\n",
    "XXXXXXXXXXXXXXXXXXXXXXXXXXXXXXXXXXXXXXXXXXXXXXXXXXXXXXXXXXXXXXXXXXXXXXXXXXXXXXXX\n",
    "XXXXXXXXXXXXXXXXXXXXXXXXXXXXXXXXXXXXXXXXXXXXXXXXXXXXXXXX\n",
    "```\n",
    "\n",
    "Pour plus d'informations : [https://fr.wikipedia.org/wiki/FASTA_(format_de_fichier)](https://fr.wikipedia.org/wiki/FASTA_(format_de_fichier)).\n",
    "\n",
    "### Lecture d'un fichier au format FASTA\n",
    "\n",
    "Le fichier `Sample_UP000008816_93061.fasta` est issu du protéome de *Staphylococcus Aureus* : https://www.uniprot.org/proteomes/UP000008816.\n",
    "Seules les 2ères protéines ont été extraites.\n",
    "\n",
    "#### Parcours avec une boucle\n",
    "\n",
    "La méthode `parse()` au sein d'une boucle `for` permet de parcourir le fichier FASTA séquence par séquence. A chaque itération de la boucle, un objet [SeqRecord](https://biopython.org/wiki/SeqRecord) est créé à partir duquel on peut accèder à l'identifiant de la séquence, sa description et la séquence elle-même."
   ]
  },
  {
   "cell_type": "code",
   "execution_count": 2,
   "metadata": {},
   "outputs": [
    {
     "name": "stdout",
     "output_type": "stream",
     "text": [
      "ID: sp|O05154|TAGX_STAA8\n",
      "Name: sp|O05154|TAGX_STAA8\n",
      "Description: sp|O05154|TAGX_STAA8 Putative glycosyltransferase TagX OS=Staphylococcus aureus (strain NCTC 8325) OX=93061 GN=tagX PE=3 SV=2\n",
      "Number of features: 0\n",
      "Seq('MRFTIIIPTCNNEATIRQLLISIESKEHYRILCIDGGSTDQTIPMIERLQRELK...LKR', SingleLetterAlphabet())\n",
      "---------\n",
      "sp|O05154|TAGX_STAA8\n",
      "---------\n",
      "sp|O05154|TAGX_STAA8 Putative glycosyltransferase TagX OS=Staphylococcus aureus (strain NCTC 8325) OX=93061 GN=tagX PE=3 SV=2\n",
      "---------\n",
      "MRFTIIIPTCNNEATIRQLLISIESKEHYRILCIDGGSTDQTIPMIERLQRELKHISLIQLQNASIATCINKGLMDIKMTDPHDSDAFMVIKPTSIVLPGKLDRLTAAFKNNDNIDMVIGQRAYNYHGEWKLKSADEFIKDNRIVTLTEQPDLLSMMSFDGKLFSAKFAELQCDETLANTYNHAILVKAMQKATDIHLVSQMIVGDNDIDTHATSNDEDFNRYITEIMKIRQRVMEMLLLPEQRLLYSDMVDRILFNNSLKYYMNEHPAVTHTTIQLVKDYIMSMQHSDYVSQNMFDIINTVEFIGENWDREIYELWRQTLIQVGINRPTYKKFLIQLKGRKFAHRTKSMLKR\n",
      "-*-*-*-*-\n",
      "ID: sp|O05204|AHPF_STAA8\n",
      "Name: sp|O05204|AHPF_STAA8\n",
      "Description: sp|O05204|AHPF_STAA8 Alkyl hydroperoxide reductase subunit F OS=Staphylococcus aureus (strain NCTC 8325) OX=93061 GN=ahpF PE=3 SV=1\n",
      "Number of features: 0\n",
      "Seq('MLNADLKQQLKQLLELMEGNVEFVASLGSDDKSKELKDLLTEITDMSPRLSLSE...IRN', SingleLetterAlphabet())\n",
      "---------\n",
      "sp|O05204|AHPF_STAA8\n",
      "---------\n",
      "sp|O05204|AHPF_STAA8 Alkyl hydroperoxide reductase subunit F OS=Staphylococcus aureus (strain NCTC 8325) OX=93061 GN=ahpF PE=3 SV=1\n",
      "---------\n",
      "MLNADLKQQLKQLLELMEGNVEFVASLGSDDKSKELKDLLTEITDMSPRLSLSEKSLKRTPSFSVNRPGEETGVTFAGIPLGHEFNSLVLAILQVSGRAPKEKQSIIDQIKKLEGSFHFETFISLTCQKCPDVVQALNLMSVINPNITHSMIDGAVFREESENIMAVPAVFLNGEEFGNGRMTIQDILSKLGSTADASEFENKEPYDVLIVGGGPASGSAAIYTARKGLRTGIVADRIGGQVNDTAGIENFITVKETTGSEFSSNLAAHIDQYDIDAMTGIRATDIEKTDEAIKVTLENGAVLESKTVIIATGAGWRKLNIPGEEQLINKGVAFCPHCDGPLFENKDVAVIGGGNSGVEAAIDLAGIVNHVTLFEFASELKADNVLQDRLRSLSNVDIKTNAKTTEVVGEDHVTGIRYEDMNTGEEHLLNLDGIFVQIGLLPNTSWLNDAVELNERGEIVIDRNNNTNVPGIFAAGDVTDQKNKQIIISMGAGANAALNAFDYIIRN\n",
      "-*-*-*-*-\n"
     ]
    }
   ],
   "source": [
    "# Parcours du fichier FASTA via la fonction parse()\n",
    "for record in SeqIO.parse(\"../data/Sample_UP000008816_93061.fasta\", \"fasta\"):\n",
    "    # Object SeqRecord\n",
    "    print(record)\n",
    "    print('---------')\n",
    "    # Identifiant de la séquence\n",
    "    print(record.id)\n",
    "    print('---------')\n",
    "    # Description de la séquence\n",
    "    print(record.description)\n",
    "    print('---------')\n",
    "    # Séquence (objet Bio.Seq.Seq)\n",
    "    print(record.seq)\n",
    "    print('-*-*-*-*-')"
   ]
  },
  {
   "cell_type": "markdown",
   "metadata": {},
   "source": [
    "#### Stockage dans une liste\n",
    "\n",
    "Il est possible de stocker dans une liste, le retour de la méthode `parse()`.\n",
    "Chaque indice de la liste correspond à un objet [SeqRecord](https://biopython.org/wiki/SeqRecord) et par conséquent à une séquence du fichier [FASTA](https://fr.wikipedia.org/wiki/FASTA_(format_de_fichier))."
   ]
  },
  {
   "cell_type": "code",
   "execution_count": 3,
   "metadata": {},
   "outputs": [
    {
     "name": "stdout",
     "output_type": "stream",
     "text": [
      "sp|O05154|TAGX_STAA8\n",
      "sp|O05204|AHPF_STAA8\n"
     ]
    }
   ],
   "source": [
    "# Stockage du fichier FASTA dans une liste\n",
    "records_list = list(SeqIO.parse(\"../data/Sample_UP000008816_93061.fasta\", \"fasta\"))\n",
    "# Identifiant de la première séquence\n",
    "print(records_list[0].id)\n",
    "# Identifiant de la dernière séquence\n",
    "print(records_list[-1].id)"
   ]
  },
  {
   "cell_type": "markdown",
   "metadata": {},
   "source": [
    "#### Stockage dans un dictionnaire\n",
    "\n",
    "La méthode `to_dict()` de SeqIO permet de stocker dans un dictionnaire le contenu du fichier [FASTA](https://fr.wikipedia.org/wiki/FASTA_(format_de_fichier)).\n",
    "En clé, l'identifiant de la séquence et en valeur, l'objet [SeqRecord](https://biopython.org/wiki/SeqRecord) associé."
   ]
  },
  {
   "cell_type": "code",
   "execution_count": 4,
   "metadata": {},
   "outputs": [
    {
     "name": "stdout",
     "output_type": "stream",
     "text": [
      "ID: sp|O05204|AHPF_STAA8\n",
      "Name: sp|O05204|AHPF_STAA8\n",
      "Description: sp|O05204|AHPF_STAA8 Alkyl hydroperoxide reductase subunit F OS=Staphylococcus aureus (strain NCTC 8325) OX=93061 GN=ahpF PE=3 SV=1\n",
      "Number of features: 0\n",
      "Seq('MLNADLKQQLKQLLELMEGNVEFVASLGSDDKSKELKDLLTEITDMSPRLSLSE...IRN', SingleLetterAlphabet())\n"
     ]
    }
   ],
   "source": [
    "# Stockage du fichier FASTA dans un dictionnaire\n",
    "record_dict = SeqIO.to_dict(SeqIO.parse(\"../data/Sample_UP000008816_93061.fasta\", \"fasta\"))\n",
    "print(record_dict[\"sp|O05204|AHPF_STAA8\"])"
   ]
  },
  {
   "cell_type": "markdown",
   "metadata": {},
   "source": [
    "### Ecriture d'un fichier au format FASTA\n",
    "\n",
    "La méthode `write()` de l'interface [Bio.SeqIO](https://biopython.org/wiki/SeqIO) permet d'écrire au format [FASTA](https://fr.wikipedia.org/wiki/FASTA_(format_de_fichier)). Il faut cependant définir en amont les séquences en tant que [SeqRecord](https://biopython.org/wiki/SeqRecord).\n",
    "\n",
    "La méthode `write()` permet de gérer automatiquement :\n",
    "\n",
    "* le `>` avant l'identifiant de la séquence\n",
    "* le saut de ligne entre l'identifiant et la séquence\n",
    "* le découpage de la séquence"
   ]
  },
  {
   "cell_type": "code",
   "execution_count": 5,
   "metadata": {},
   "outputs": [],
   "source": [
    "# Liste contenant les séquences à écrire au format FASTA\n",
    "sequences = []\n",
    "\n",
    "# Données initiales sous forme de dictionnaire\n",
    "features = {'cds1' : 'ATGCATGCATGCA', 'cds2' : 'ATCGATGCTAGC', 'cds3' : 'ATCGATCGATCGTAG'}\n",
    "\n",
    "# Parcours du dictionnaire (des séquences)\n",
    "for feature in features:\n",
    "    # Création d'une séquence Seq\n",
    "    sequence = Seq(features[feature])\n",
    "    # Ajout des séquences (SeqRecord) dans la liste\n",
    "    sequences.append(SeqRecord(sequence, id=feature, description=''))\n",
    "\n",
    "# Ecriture au format FASTA\n",
    "with open(\"../data/Output.fasta\", \"w\") as fasta_output:\n",
    "    SeqIO.write(sequences, fasta_output, \"fasta\")"
   ]
  },
  {
   "cell_type": "markdown",
   "metadata": {},
   "source": [
    "## Format FASTQ\n",
    "\n",
    "### Description du format FASTQ\n",
    "\n",
    "Un fichier [FASTQ](https://fr.wikipedia.org/wiki/FASTQ) utilise en principe 4 lignes par séquence :\n",
    "* ligne 1 : commence par un caractère \"@\" suivi de l'identifiant de la séquence et éventuellement d'une description (de la même façon qu'un fichier au format FASTA, le \"@\" remplaçant ici le \">\")\n",
    "* ligne 2 : contient la séquence nucléique brute\n",
    "* ligne 3 : commence par un caractère \"+\", parfois suivi par la répétition de l'identifiant de la séquence et de sa description si celle-ci est présente\n",
    "* ligne 4 : contient les scores de qualité associés à chacune des bases de la séquence de la ligne 2 et doit avoir exactement le même nombre de symboles que la ligne 2\n",
    "\n",
    "```\n",
    "@SEQ_ID\n",
    "GATTTGGGGTTCAAAGCAGTATCGATCAAATAGTAAATCCATTTGTTCAACTCACAGTTT\n",
    "+\n",
    "!''*((((***+))%%%++)(%%%%).1***-+*''))**55CCF>>>>>>CCCCCCC65\n",
    "```\n",
    "\n",
    "Pour plus d'informations : [https://fr.wikipedia.org/wiki/FASTQ](https://fr.wikipedia.org/wiki/FASTQ).\n",
    "\n",
    "### Lecture d'un fichier au format FASTQ\n",
    "\n",
    "Le parcours d'un fichier [FASTQ](https://fr.wikipedia.org/wiki/FASTQ) est identique au parcours d'un fichier [FASTA](https://fr.wikipedia.org/wiki/FASTA_(format_de_fichier))."
   ]
  },
  {
   "cell_type": "code",
   "execution_count": 6,
   "metadata": {},
   "outputs": [
    {
     "name": "stdout",
     "output_type": "stream",
     "text": [
      "ID: ERR022486.8\n",
      "Name: ERR022486.8\n",
      "Description: ERR022486.8 IL37_5141:3:1:2077:948/1\n",
      "Number of features: 0\n",
      "Per letter annotation for: phred_quality\n",
      "Seq('NGAGTTCTGCTGTGTGCAAGATTTAGGCACAATAAGTAATAATTCTGTTTTGTC...TTG', SingleLetterAlphabet())\n",
      "---------\n",
      "ERR022486.8\n",
      "---------\n",
      "ERR022486.8 IL37_5141:3:1:2077:948/1\n",
      "---------\n",
      "NGAGTTCTGCTGTGTGCAAGATTTAGGCACAATAAGTAATAATTCTGTTTTGTCTGAGTTTAAGAGAAGAAAATTG\n",
      "-*-*-*-*-\n",
      "ID: ERR022486.41\n",
      "Name: ERR022486.41\n",
      "Description: ERR022486.41 IL37_5141:3:1:4471:938/1\n",
      "Number of features: 0\n",
      "Per letter annotation for: phred_quality\n",
      "Seq('NATTATTAAAAATTTTAACAAAAAAATAATTAATTATTTTGAGTCTATTGCTCT...AAA', SingleLetterAlphabet())\n",
      "---------\n",
      "ERR022486.41\n",
      "---------\n",
      "ERR022486.41 IL37_5141:3:1:4471:938/1\n",
      "---------\n",
      "NATTATTAAAAATTTTAACAAAAAAATAATTAATTATTTTGAGTCTATTGCTCTGTTTGTGGTTGTAAAAAAAAAA\n",
      "-*-*-*-*-\n",
      "ID: ERR022486.42\n",
      "Name: ERR022486.42\n",
      "Description: ERR022486.42 IL37_5141:3:1:4568:947/1\n",
      "Number of features: 0\n",
      "Per letter annotation for: phred_quality\n",
      "Seq('NTCAAAATATGATTTTGGCATAATAAGTTAGATGTAGAGAGTCTTAAGTGAATT...GAT', SingleLetterAlphabet())\n",
      "---------\n",
      "ERR022486.42\n",
      "---------\n",
      "ERR022486.42 IL37_5141:3:1:4568:947/1\n",
      "---------\n",
      "NTCAAAATATGATTTTGGCATAATAAGTTAGATGTAGAGAGTCTTAAGTGAATTAGCAACGCCAGTGTTTTGGGAT\n",
      "-*-*-*-*-\n"
     ]
    }
   ],
   "source": [
    "# Parcours du fichier FASTA via la fonction parse()\n",
    "for record in SeqIO.parse(\"../data/Sample.fastq\", \"fastq\"):\n",
    "    # Object SeqRecord\n",
    "    print(record)\n",
    "    print('---------')\n",
    "    # Identifiant de la séquence\n",
    "    print(record.id)\n",
    "    print('---------')\n",
    "    # Description de la séquence\n",
    "    print(record.description)\n",
    "    print('---------')\n",
    "    # Séquence (objet Bio.Seq.Seq)\n",
    "    print(record.seq)\n",
    "    print('-*-*-*-*-')"
   ]
  },
  {
   "cell_type": "markdown",
   "metadata": {},
   "source": [
    "### Récupération de la qualité\n",
    "\n",
    "La méthode `get_raw()` permet de récupérer la 4è ligne correspondant aux scores de qualité de la séquence."
   ]
  },
  {
   "cell_type": "code",
   "execution_count": 7,
   "metadata": {},
   "outputs": [
    {
     "name": "stdout",
     "output_type": "stream",
     "text": [
      "b'@ERR022486.41 IL37_5141:3:1:4471:938/1\\nNATTATTAAAAATTTTAACAAAAAAATAATTAATTATTTTGAGTCTATTGCTCTGTTTGTGGTTGTAAAAAAAAAA\\n+\\n!*+.,6754488:<<8:<<:::44444444:::::337414;<<:<=6==;;<<<<;:::537946551161101&\\n'\n"
     ]
    }
   ],
   "source": [
    "# Création d'un dictionnaire\n",
    "fastq_dict = SeqIO.index(\"../data/Sample.fastq\", \"fastq\")\n",
    "\n",
    "# Scores de qualité de la séquence\n",
    "raw = fastq_dict.get_raw(\"ERR022486.41\")\n",
    "print(raw)"
   ]
  },
  {
   "cell_type": "markdown",
   "metadata": {},
   "source": [
    "## Format GenBank\n",
    "\n",
    "### Description du format GenBank\n",
    "\n",
    "Le format [GenBank](https://www.ncbi.nlm.nih.gov/Sitemap/samplerecord.html) permet de stocker une séquence et ses annotations.\n",
    "\n",
    "Pour plus d'informations : [https://www.ncbi.nlm.nih.gov/Sitemap/samplerecord.html](https://www.ncbi.nlm.nih.gov/Sitemap/samplerecord.html).\n",
    "\n",
    "### Lecture d'un fichier au format GenBank\n",
    "\n",
    "Le fichier `Sample_GCF_000007825.1_ASM782v1_genomic.gbff` est issu de l'annotation de *Bacillus cereus* : [https://www.ncbi.nlm.nih.gov/genome?LinkName=nuccore_genome&from_uid=1679390359](https://www.ncbi.nlm.nih.gov/genome?LinkName=nuccore_genome&from_uid=1679390359).\n",
    "\n",
    "La méthode `parse()` est utilisée pour lire un fichier au format [GenBank](https://www.ncbi.nlm.nih.gov/Sitemap/samplerecord.html).\n",
    "Elle retourne des objets [SeqRecord](https://biopython.org/wiki/SeqRecord) contenant les séquences annotées présentes dans le fichier [GenBank](https://www.ncbi.nlm.nih.gov/Sitemap/samplerecord.html).\n",
    "A partir de ces objets [SeqRecord](https://biopython.org/wiki/SeqRecord), il est possible d'accéder aux éléments annotés sur chaque séquence, sous forme d'objets SeqFeature."
   ]
  },
  {
   "cell_type": "code",
   "execution_count": 8,
   "metadata": {},
   "outputs": [
    {
     "name": "stdout",
     "output_type": "stream",
     "text": [
      "------\n",
      "ID = NC_004722.1, length 5411809, with 3 features\n",
      "------\n",
      "type: source\n",
      "location: order{[0:1804669](+), [1866064:2526678](+), [2565150:5411809](+)}\n",
      "qualifiers:\n",
      "    Key: db_xref, Value: ['ATCC:14579', 'taxon:226900']\n",
      "    Key: focus, Value: ['']\n",
      "    Key: mol_type, Value: ['genomic DNA']\n",
      "    Key: organism, Value: ['Bacillus cereus ATCC 14579']\n",
      "    Key: strain, Value: ['ATCC 14579']\n",
      "    Key: type_material, Value: ['type strain of Bacillus cereus']\n",
      "\n",
      "---------\n",
      "source\n",
      "---------\n",
      "['Bacillus cereus ATCC 14579']\n",
      "-*-*-*-*-\n",
      "type: gene\n",
      "location: [280:1621](+)\n",
      "qualifiers:\n",
      "    Key: gene, Value: ['dnaA']\n",
      "    Key: locus_tag, Value: ['BC_RS00005']\n",
      "    Key: old_locus_tag, Value: ['BC0001', 'BC_0001']\n",
      "\n",
      "---------\n",
      "gene\n",
      "---------\n",
      "-*-*-*-*-\n",
      "type: CDS\n",
      "location: [280:1621](+)\n",
      "qualifiers:\n",
      "    Key: codon_start, Value: ['1']\n",
      "    Key: gene, Value: ['dnaA']\n",
      "    Key: inference, Value: ['COORDINATES: similar to AA sequence:RefSeq:NP_387882.1']\n",
      "    Key: locus_tag, Value: ['BC_RS00005']\n",
      "    Key: note, Value: ['Derived by automated computational analysis using gene prediction method: Protein Homology.']\n",
      "    Key: old_locus_tag, Value: ['BC0001', 'BC_0001']\n",
      "    Key: product, Value: ['chromosomal replication initiator protein DnaA']\n",
      "    Key: protein_id, Value: ['WP_000428017.1']\n",
      "    Key: transl_table, Value: ['11']\n",
      "    Key: translation, Value: ['MENISDLWNSALKELEKKVSKPSYETWLKSTTAHNLKKDVLTITAPNEFARDWLESHYSELISETLYDLTGAKLAIRFIIPQSQAEEDIDLPPVKPNPAQDDSAHLPQSMLNPKYTFDTFVIGSGNRFAHAASLAVAEAPAKAYNPLFIYGGVGLGKTHLMHAIGHYVIEHNPNAKVVYLSSEKFTNEFINSIRDNKAVDFRNKYRNVDVLLIDDIQFLAGKEQTQEEFFHTFNALHEESKQIVISSDRPPKEIPTLEDRLRSRFEWGLITDITPPDLETRIAILRKKAKAEGLDIPNEVMLYIANQIDSNIRELEGALIRVVAYSSLINKDINADLAAEALKDIIPNSKPKIISIYDIQKAVGDVYQVKLEDFKAKKRTKSVAFPRQIAMYLSRELTDSSLPKIGEEFGGRDHTTVIHAHEKISKLLKTDTQLQKQVEEINGILK']\n",
      "\n",
      "---------\n",
      "CDS\n",
      "---------\n",
      "-*-*-*-*-\n"
     ]
    }
   ],
   "source": [
    "# Parcours du fichier GenBank via la fonction parse()\n",
    "for record in SeqIO.parse(\"../data/Sample_GCF_000007825.1_ASM782v1_genomic.gbff\", \"genbank\"):\n",
    "    \n",
    "    # Affichage\n",
    "    # de l'identifiant de la séquence de référence\n",
    "    # de la longueur de la séquence de référence\n",
    "    # du nombre de features annotés sur cette séquence de référence\n",
    "    print(\"------\\nID = %s, length %i, with %i features\\n------\"\n",
    "          % (record.id, len(record.seq), len(record.features)))\n",
    "    \n",
    "    # Parcours des features annotés sur chaque séquence\n",
    "    for feature in record.features:\n",
    "        # Objet Bio.SeqFeature.SeqFeature\n",
    "        print(feature)\n",
    "        print('---------')\n",
    "        # Type de features\n",
    "        print(feature.type)\n",
    "        print('---------')\n",
    "        # Qualifier 'organism'\n",
    "        if 'organism' in feature.qualifiers:\n",
    "            print(feature.qualifiers['organism'])\n",
    "        print('-*-*-*-*-')"
   ]
  },
  {
   "cell_type": "markdown",
   "metadata": {},
   "source": [
    "### Ecriture au format GenBank\n",
    "\n",
    "D'autres modules sont nécessaires à l'écriture au format [Genbank](https://www.ncbi.nlm.nih.gov/Sitemap/samplerecord.html) :\n",
    "\n",
    "* `generic_dna` de `Bio.Alphabet` pour préciser le type d'alphabet (nucléique, protéique)\n",
    "* `FeatureLocation` et `SeqFeature` de `Bio.SeqFeature` pour la gestion des éléments annotés et leurs positions"
   ]
  },
  {
   "cell_type": "code",
   "execution_count": 9,
   "metadata": {},
   "outputs": [
    {
     "name": "stdout",
     "output_type": "stream",
     "text": [
      "LOCUS       CHR01                    110 bp    DNA              UNK 01-JAN-1980\n",
      "DEFINITION  Chromosome 1.\n",
      "ACCESSION   CHR01\n",
      "VERSION     CHR01\n",
      "KEYWORDS    .\n",
      "SOURCE      .\n",
      "  ORGANISM  .\n",
      "            .\n",
      "FEATURES             Location/Qualifiers\n",
      "     CDS             1..10\n",
      "                     /name=\"cds1\"\n",
      "     mRNA            complement(1..15)\n",
      "                     /name=\"mRNA1\"\n",
      "ORIGIN\n",
      "        1 atggcggtag atggcggtag atggcggtag atggcggtag atggcggtag atggcggtag\n",
      "       61 atggcggtag atggcggtag atggcggtag atggcggtag atggcggtag\n",
      "//\n",
      "\n"
     ]
    }
   ],
   "source": [
    "# Positions du feature de type CDS\n",
    "location = FeatureLocation(0, 10, strand=+1)\n",
    "# Feature 1 de type CDS\n",
    "feat1 = SeqFeature(location, type=\"CDS\")\n",
    "# Feature 2 de type mRNA\n",
    "feat2 = SeqFeature(FeatureLocation(0, 15, strand=-1), type=\"mRNA\")\n",
    "# Déclaration de nouveaux qualifiers\n",
    "# Ici un qualifier 'name' pour chaque feature\n",
    "feat1.qualifiers[\"name\"] = \"cds1\"\n",
    "feat2.qualifiers[\"name\"] = \"mRNA1\"\n",
    "\n",
    "# Initialisation d'une liste pour l'ensemble des features\n",
    "features = []\n",
    "# Ajout des features à la liste\n",
    "features.append(feat1)\n",
    "features.append(feat2)\n",
    "\n",
    "# Objet Seq avec la séquence de référence\n",
    "sequence = Seq(\"ATGGCGGTAGATGGCGGTAGATGGCGGTAGATGGCGGTAGATGGCGGTAGATGGCGGTAGATGGCGGTAGATGGCGGTAGATGGCGGTAGATGGCGGTAGATGGCGGTAG\", generic_dna)\n",
    "# Objet SeqRecord pour la séquence de référence\n",
    "seqrecord = SeqRecord(sequence,\n",
    "                        id=\"CHR01\",\n",
    "                        description=\"Chromosome 1\")\n",
    "\n",
    "# Ajout des features à la séquence de référence\n",
    "seqrecord.features = features\n",
    "\n",
    "# Affichage au format GenBank\n",
    "print(seqrecord.format(\"gb\"))"
   ]
  },
  {
   "cell_type": "markdown",
   "metadata": {},
   "source": [
    "## Format GFF\n",
    "\n",
    "### Description du format GFF\n",
    "\n",
    "La format [GFF](https://fr.wikipedia.org/wiki/General_feature_format) est un format tabulé à 9 colonnes. Il peut être notamment manipulé avec :\n",
    "* la librairie [BCBio.GFF](https://biopython.org/wiki/GFF_Parsing),\n",
    "* la librairie [Pandas](https://pandas.pydata.org/) comme un fichier tabulé grâce à la méthode `read_csv()` en précisant que le séparateur est la tabulation (option `sep = \"\\t\"`) et que l'on ignore les lignes de commentaires (option `comment=\"#\"`).\n",
    "\n",
    "Ici, nous allons voir comment parcourir le fichier `Sample_Bacillus_subtilis.gff3` (extrait de l'annotation de *Bacillus subtilis*) au format [GFF](https://fr.wikipedia.org/wiki/General_feature_format) à l'aide de la librairie [BCBio.GFF](https://biopython.org/wiki/GFF_Parsing) car vous savez déjà comment faire avec la librairie [Pandas](https://pandas.pydata.org/) ;)\n",
    "\n",
    "### Lecture d'un fichier au format GFF\n",
    "\n",
    "La méthode `parse()`retourne un objet [SeqRecord](https://biopython.org/wiki/SeqRecord) par séquence."
   ]
  },
  {
   "cell_type": "code",
   "execution_count": 10,
   "metadata": {},
   "outputs": [
    {
     "name": "stdout",
     "output_type": "stream",
     "text": [
      "ID: NC_000964.3\n",
      "Name: <unknown name>\n",
      "Description: <unknown description>\n",
      "Number of features: 2\n",
      "/gff-version=['3']\n",
      "/sequence-region=[('NC_000964.3', 0, 4215606)]\n",
      "/species=['https://www.ncbi.nlm.nih.gov/Taxonomy/Browser/wwwtax.cgi?id=224308']\n",
      "UnknownSeq(4215606, character='?')\n",
      "type: region\n",
      "location: [0:4215606](+)\n",
      "id: id0\n",
      "qualifiers:\n",
      "    Key: Dbxref, Value: ['taxon:224308']\n",
      "    Key: ID, Value: ['id0']\n",
      "    Key: Is_circular, Value: ['true']\n",
      "    Key: gbkey, Value: ['Src']\n",
      "    Key: genome, Value: ['genomic']\n",
      "    Key: mol_type, Value: ['genomic DNA']\n",
      "    Key: source, Value: ['RefSeq']\n",
      "    Key: strain, Value: ['168']\n",
      "    Key: sub-species, Value: ['subtilis']\n",
      "\n",
      "---------\n",
      "region\n",
      "---------\n",
      "['id0']\n",
      "-*-*-*-*-\n",
      "type: gene\n",
      "location: [409:1750](+)\n",
      "id: gene0\n",
      "qualifiers:\n",
      "    Key: ID, Value: ['gene0']\n",
      "    Key: Name, Value: ['dnaA']\n",
      "    Key: gbkey, Value: ['Gene']\n",
      "    Key: gene, Value: ['dnaA']\n",
      "    Key: gene_biotype, Value: ['protein_coding']\n",
      "    Key: locus_tag, Value: ['BSU_00010']\n",
      "    Key: old_locus_tag, Value: ['BSU00010']\n",
      "    Key: source, Value: ['RefSeq']\n",
      "\n",
      "---------\n",
      "gene\n",
      "---------\n",
      "['gene0']\n",
      "-*-*-*-*-\n"
     ]
    }
   ],
   "source": [
    "# Lecture du fichier au format GFF\n",
    "with open('../data/Sample_Bacillus_subtilis.gff3', 'r') as gff_file:\n",
    "    # Parcours des séquences de référence\n",
    "    for rec in GFF.parse(gff_file):\n",
    "        # Objet SeqRecord\n",
    "        print(rec)\n",
    "        # Parcours des features annotés\n",
    "        for feature in rec.features:\n",
    "            # Objet Bio.SeqFeature.SeqFeature\n",
    "            print(feature)\n",
    "            print('---------')\n",
    "            # Type de features\n",
    "            print(feature.type)\n",
    "            print('---------')\n",
    "            # Qualifier 'ID'\n",
    "            if 'ID' in feature.qualifiers:\n",
    "                print(feature.qualifiers['ID'])\n",
    "            print('-*-*-*-*-')"
   ]
  },
  {
   "cell_type": "markdown",
   "metadata": {},
   "source": [
    "### Ecriture au format GFF\n",
    "\n",
    "On retrouve les mêmes modules que pour l'écriture au format GenBank : `Bio.Seq`, `Bio.SeqRecord`et `Bio.SeqFeature` pour la gestion des séquences et des éléments annotés."
   ]
  },
  {
   "cell_type": "code",
   "execution_count": 11,
   "metadata": {},
   "outputs": [],
   "source": [
    "# Sequence de référence 'ID1'\n",
    "seq = Seq(\"GATCGATCGATCGATCGATC\")\n",
    "record = SeqRecord(seq, \"ID1\")\n",
    "\n",
    "# Qualifiers de l'élément du rang le plus haut (ici le gène 'gene1')\n",
    "# source : colonne 2\n",
    "# score : colonne 6\n",
    "# other : colonne 9\n",
    "# ID : colonne 1\n",
    "qualifiers = {\"source\": \"prediction\", \"score\": 10.0, \"other\": [\"Some\", \"annotations\"],\n",
    "              \"ID\": \"gene1\"}\n",
    "# Elément du rang le plus haut (ici le gène 'gene1')\n",
    "top_feature = SeqFeature(FeatureLocation(0, 20), type=\"gene\", strand=1,\n",
    "                         qualifiers=qualifiers)\n",
    "sub_qualifiers = {\"source\": \"prediction\"}\n",
    "\n",
    "# Sous-éléments de l'élément le plus haut (ici les exons du gène)\n",
    "top_feature.sub_features = [SeqFeature(FeatureLocation(0, 5), type=\"exon\", strand=1,\n",
    "                                       qualifiers=sub_qualifiers),\n",
    "                            SeqFeature(FeatureLocation(15, 20), type=\"exon\", strand=1,\n",
    "                                       qualifiers=sub_qualifiers)]\n",
    "\n",
    "# Ajout du feature 'gene1' à la séquence de référence 'ID1'\n",
    "record.features = [top_feature]\n",
    "\n",
    "# Ecriture au format GFF\n",
    "with open(\"../data/Output.gff\", \"w\") as output_gff:\n",
    "    GFF.write([record], output_gff)"
   ]
  }
 ],
 "metadata": {
  "kernelspec": {
   "display_name": "Python 3",
   "language": "python",
   "name": "python3"
  },
  "language_info": {
   "codemirror_mode": {
    "name": "ipython",
    "version": 3
   },
   "file_extension": ".py",
   "mimetype": "text/x-python",
   "name": "python",
   "nbconvert_exporter": "python",
   "pygments_lexer": "ipython3",
   "version": "3.7.7"
  }
 },
 "nbformat": 4,
 "nbformat_minor": 4
}
