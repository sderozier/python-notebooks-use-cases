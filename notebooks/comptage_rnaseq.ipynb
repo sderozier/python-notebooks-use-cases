{
 "cells": [
  {
   "cell_type": "markdown",
   "metadata": {},
   "source": [
    "# Exploration de données brutes RNA-Seq"
   ]
  },
  {
   "cell_type": "markdown",
   "metadata": {},
   "source": [
    "## Quelques rappels"
   ]
  },
  {
   "cell_type": "markdown",
   "metadata": {},
   "source": [
    "### RNA-Seq\n",
    "\n",
    "Le RNA-Seq (séquençage de l'ARN), également appelé séquençage aléatoire du transcriptome entier, est une technologie qui utilise le séquençage à haut débit pour identifier et quantifier les produits de transcription d'un génome à un moment donné.\n",
    "\n",
    "On part du principe que le nombre de fragments d'ARN séquencés est proportionnel à l'abondance des ARNs correspondants dans la cellule et qu'il est donc possible d'en estimer cette abondance. L'objectif est généralement d'étudier les différences d'expression des transcrits entre des échantillons en se basant sur ces estimations d'abondances d'ARN.\n",
    "\n",
    "La technologie du RNA-Seq peut également permettre de déterminer les positions de départ et de fin de transcription, tous règnes confondus, ainsi que les jonctions entre les exons et les introns chez les eucaryotes.\n",
    "\n",
    "La méthode la plus simple pour estimer l'abondance des transcrits est d'utiliser une annotation de référence, généralement celle des gènes, et de compter le nombre de produits de séquençage alignés entre les bornes des annotations.\n",
    "\n",
    "### Grandes étapes\n",
    "\n",
    "* préparation (récupération de la séquence génomique de l'espèce concernée)\n",
    "* contrôle qualité (FastQC)\n",
    "* alignement (de chaque *read* sur le génome de référence)\n",
    "* comptage\n",
    "\n",
    "### Comptage\n",
    "\n",
    "Sous l'hypothèse que le nombre de *reads* venant d'un certain gène est proportionnel à l'abondance de son ARN dans la cellule, on veut compter les *reads* venant de chaque gène, transcrit ou exon du génome.\n",
    "\n",
    "Cf. https://bioinfo-fr.net/lanalyse-de-donnees-rna-seq-mode-demploi#comptage."
   ]
  },
  {
   "cell_type": "markdown",
   "metadata": {},
   "source": [
    "## Objectif\n",
    "\n",
    "A partir de données de comptage obtenues avec l'outil [HTSeqCount](https://htseq.readthedocs.io/en/release_0.11.1/count.html),\n",
    "\n",
    "* regrouper les comptages des lectures (*reads*) afin de créer une matrice de comptage de l'ensemble des locus pour toutes les conditions (au format tabulé)\n",
    "* afficher la profondeur (nombre de *reads*) pour chaque condition\n",
    "* ordonner la matrice par nom de gènes et de conditions, et filtrer les gènes dont le comptage moyen est inférieur à 5\n",
    "\n",
    "### Données initiales\n",
    "\n",
    "Pour comparer les conditions entre elles, il est nécessaire de mesurer les abondances de transcrits de plusieurs échantillons biologiques différents dans chaque condition afin d'étendre les observations à la population pour en généraliser les conclusions (trois répétitions biologiques sont généralement utilisées par condition à comparer en RNA-Seq).\n",
    "\n",
    "Données de comptage par gène pour chaque échantillon (issues de [HTSeqCount](https://htseq.readthedocs.io/en/release_0.11.1/count.html)) —> 3 mutants et 1 sauvage, 3 réplicats —> 12 fichiers :"
   ]
  },
  {
   "cell_type": "code",
   "execution_count": null,
   "metadata": {},
   "outputs": [],
   "source": [
    "!ls ../data/htseqcount    # Commande uniquement valable dans un environnement Unix\n",
    "#!dir ..\\data\\htseqcount  # Autrement"
   ]
  },
  {
   "cell_type": "markdown",
   "metadata": {},
   "source": [
    "Ces fichiers contiennent deux colonnes du type :\n",
    "\n",
    "```\n",
    "LOCUS_0476 1199\n",
    "LOCUS_1221 1266\n",
    "LOCUS_0644 1727\n",
    "LOCUS_0590 9514\n",
    "LOCUS_2883 8391\n",
    "[…]\n",
    "```\n",
    "\n",
    "### Sorties attendues\n",
    "\n",
    "Deux fichiers au format tabulé contenant une matrice ordonnée par nom de gènes et de conditions dont les comptages moyens sont :\n",
    "\n",
    "* inférieurs à 5\n",
    "* supérieurs ou égaux à 5\n",
    "\n",
    "**Exemple :**\n",
    "\n",
    "```\n",
    "Locus Mutant-A_1 Mutant-A_2 Mutant-A_3 Mutant-B_1 Mutant-B_2 Mutant-B_3 Mutant-C_1 Mutant-C_2 Mutant-C_3 Wild_1 Wild_2 Wild_3\n",
    "LOCUS_0001 408 467 398 701 452 453 501 610 672 634 628 544\n",
    "LOCUS_0002 9052 9047 8853 8844 9037 8949 8989 8928 8845 2441 2550 2460\n",
    "[…]\n",
    "```\n",
    "\n",
    "### Un petit plus...\n",
    "\n",
    "On peut explorer les données en regardant la distribution de celles-ci entre réplication avec des *scatterplots*."
   ]
  },
  {
   "cell_type": "markdown",
   "metadata": {},
   "source": [
    "## Import des librairies"
   ]
  },
  {
   "cell_type": "code",
   "execution_count": null,
   "metadata": {},
   "outputs": [],
   "source": [
    "import os\n",
    "import numpy as np\n",
    "import pandas as pd\n",
    "import seaborn as sns\n",
    "%matplotlib inline"
   ]
  },
  {
   "cell_type": "markdown",
   "metadata": {},
   "source": [
    "## Gestion des fichiers d'entrée"
   ]
  },
  {
   "cell_type": "code",
   "execution_count": null,
   "metadata": {},
   "outputs": [],
   "source": [
    "dir = '../data/htseqcount/'\n",
    "files = os.listdir(dir)\n",
    "files.sort()"
   ]
  },
  {
   "cell_type": "markdown",
   "metadata": {},
   "source": [
    "## Création du Dataframe"
   ]
  },
  {
   "cell_type": "code",
   "execution_count": null,
   "metadata": {},
   "outputs": [],
   "source": [
    "df = pd.DataFrame(columns=[\"Locus\"]).set_index(\"Locus\")\n",
    "for file in files:\n",
    "    # lecture du fichier\n",
    "    df_tmp = pd.read_csv(dir+file, sep='\\t', index_col=0, names=['Locus', file.replace('.htc', '')])\n",
    "    # jointure entre les données\n",
    "    df = df.join(df_tmp, how=\"outer\")"
   ]
  },
  {
   "cell_type": "code",
   "execution_count": null,
   "metadata": {},
   "outputs": [],
   "source": [
    "df"
   ]
  },
  {
   "cell_type": "markdown",
   "metadata": {},
   "source": [
    "## Profondeur (nombre de *reads*) pour chaque condition"
   ]
  },
  {
   "cell_type": "code",
   "execution_count": null,
   "metadata": {},
   "outputs": [],
   "source": [
    "df.sum(axis=0)"
   ]
  },
  {
   "cell_type": "markdown",
   "metadata": {},
   "source": [
    "## Filtrage des données"
   ]
  },
  {
   "cell_type": "code",
   "execution_count": null,
   "metadata": {},
   "outputs": [],
   "source": [
    "# Seuls les locus dont la moyenne >= 5\n",
    "is_mean_sup_5 = df.mean(axis = 1) >= 5\n",
    "df_mean_sup_5 = df[is_mean_sup_5]\n",
    "\n",
    "# Seuls les locus dont la moyenne < 5\n",
    "is_mean_inf_5 = df.mean(axis = 1) < 5\n",
    "df_mean_inf_5 = df[is_mean_inf_5]"
   ]
  },
  {
   "cell_type": "markdown",
   "metadata": {},
   "source": [
    "## Export des Dataframes"
   ]
  },
  {
   "cell_type": "code",
   "execution_count": null,
   "metadata": {},
   "outputs": [],
   "source": [
    "df.to_csv(r'../data/DataframeComplete.csv')\n",
    "df_mean_inf_5.to_csv(r'../data/DataframeFilteredInf5.csv')\n",
    "df_mean_sup_5.to_csv(r'../data/DataframeFilteredSup5.csv')"
   ]
  },
  {
   "cell_type": "markdown",
   "metadata": {},
   "source": [
    "## Exploration des données\n",
    "\n",
    "Afin d'explorer rapidement les données et de contrôler que les réplicats sont bien des réplicats, on peut comparer tous les échantillons entre eux en représentant des *scatterplots*.\n",
    "\n",
    "Pour tracer plusieurs distributions bivariées par paires dans un ensemble de données, il est possible d'utiliser la fonction `pairplot()` de [Seaborn](https://seaborn.pydata.org/tutorial/distributions.html). Celle-ci crée une matrice d'axes et montre la relation pour chaque paire de colonnes d'un *DataFrame*. Par défaut, elle dessine également la distribution univariée de chaque variable sur la diagonale."
   ]
  },
  {
   "cell_type": "code",
   "execution_count": null,
   "metadata": {},
   "outputs": [],
   "source": [
    "# +1 pour palier aux données négatives\n",
    "df_mean_sup_5_log = np.log10(df_mean_sup_5+1)\n",
    "sns.pairplot(df_mean_sup_5_log)"
   ]
  },
  {
   "cell_type": "markdown",
   "metadata": {},
   "source": [
    "Les répétitions biologiques sont facilement identifiables. En effet, si les variations biologiques sont faibles, les gènes s'expriment de façon équivalente entre les échantillons de répétitions biologiques ce qui place les points proche de la première bissectrice.\n",
    "\n",
    "Il y a un effet assez fort des valeurs de faible expression, ce qui est tout à fait normal. Cependant, pour l'atténuer, on peut modifier légérement les données comme suit."
   ]
  },
  {
   "cell_type": "code",
   "execution_count": null,
   "metadata": {},
   "outputs": [],
   "source": [
    "# +100 pour donner moins de poids aux petites valeurs\n",
    "df_mean_sup_5_log = np.log10(df_mean_sup_5+100)\n",
    "sns.pairplot(df_mean_sup_5_log)"
   ]
  },
  {
   "cell_type": "markdown",
   "metadata": {},
   "source": [
    "**Quelques observations :**\n",
    "\n",
    "* une forte dispersion des valeurs faibles pour les répétitions\n",
    "* entre échantillons de conditions différentes, des points collés à gauche ou en bas indiquent des gènes potentiellement exprimés dans une condition et pas du tout dans une autre\n",
    "* une très forte dispersion dans les valeurs fortes entre les échantillons des différentes conditions tend à laisser penser qu'il sera possible d'observer des variations intéressantes d'expression spécifiques de certaines conditions\n",
    "* il y a souvent un point en haut à droite qui semble tout seul, il serai intéressant de savoir pourquoi en regardant les donnéees, quel est ce gène (peut-être un gène codant pour une partie d'un ribosome) ?"
   ]
  }
 ],
 "metadata": {
  "kernelspec": {
   "display_name": "Python 3",
   "language": "python",
   "name": "python3"
  },
  "language_info": {
   "codemirror_mode": {
    "name": "ipython",
    "version": 3
   },
   "file_extension": ".py",
   "mimetype": "text/x-python",
   "name": "python",
   "nbconvert_exporter": "python",
   "pygments_lexer": "ipython3",
   "version": "3.7.7"
  }
 },
 "nbformat": 4,
 "nbformat_minor": 4
}
